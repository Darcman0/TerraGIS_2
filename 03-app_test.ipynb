{
 "cells": [
  {
   "cell_type": "markdown",
   "metadata": {},
   "source": [
    "---\n",
    "title: App Test Person\n",
    "subtitle: un test avec des données personnelles\n",
    "author:\n",
    "  - name: Terra Gis\n",
    "    affiliations: Executable Books; Curvenote\n",
    "    email: darcman8@gmail.com\n",
    "license:\n",
    "  code: MIT\n",
    "date: 2025-01-23\n",
    "---\n",
    "\n",
    "Terra Gis protége l'environnement\n",
    "\n",
    "For example, let us import `leafmap` and create a demo of an interactive plot!"
   ]
  },
  {
   "cell_type": "code",
   "execution_count": null,
   "metadata": {},
   "outputs": [],
   "source": [
    "import leafmap\n",
    "import pandas"
   ]
  },
  {
   "cell_type": "code",
   "execution_count": null,
   "metadata": {},
   "outputs": [],
   "source": [
    "m = leafmap.Map()\n",
    "m.add_geojson(\"./data/a_refaire.geojson\", layer_name= \"Reboisement\")\n",
    "m"
   ]
  }
 ],
 "metadata": {
  "kernelspec": {
   "display_name": "geo",
   "language": "python",
   "name": "python3"
  },
  "language_info": {
   "codemirror_mode": {
    "name": "ipython",
    "version": 3
   },
   "file_extension": ".py",
   "mimetype": "text/x-python",
   "name": "python",
   "nbconvert_exporter": "python",
   "pygments_lexer": "ipython3",
   "version": "3.12.3"
  }
 },
 "nbformat": 4,
 "nbformat_minor": 2
}
