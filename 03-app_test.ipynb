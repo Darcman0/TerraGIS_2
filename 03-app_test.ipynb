{
 "cells": [
  {
   "cell_type": "markdown",
   "metadata": {},
   "source": [
    "---\n",
    "title: App Test Person\n",
    "subtitle: un test avec des données personnelles\n",
    "author:\n",
    "  - name: Terra Gis\n",
    "    affiliations: Executable Books; Curvenote\n",
    "    email: darcman8@gmail.com\n",
    "license:\n",
    "  code: MIT\n",
    "date: 2025-01-23\n",
    "---\n",
    "\n",
    "Terra Gis protége l'environnement\n",
    "\n",
    "For example, let us import `leafmap` and create a demo of an interactive plot!"
   ]
  },
  {
   "cell_type": "code",
   "execution_count": null,
   "metadata": {},
   "outputs": [],
   "source": [
    "import leafmap\n",
    "import pandas"
   ]
  },
  {
   "cell_type": "code",
   "execution_count": null,
   "metadata": {},
   "outputs": [],
   "source": [
    "m = leafmap.Map()"
   ]
  },
  {
   "cell_type": "code",
   "execution_count": 12,
   "metadata": {},
   "outputs": [],
   "source": [
    "m.add_geojson(\"./data/a_refaire.geojson\", layer_name= \"Reboisement\")"
   ]
  },
  {
   "cell_type": "code",
   "execution_count": 11,
   "metadata": {},
   "outputs": [
    {
     "data": {
      "application/vnd.jupyter.widget-view+json": {
       "model_id": "0122123530a247cfb8d735a1e2f40bc4",
       "version_major": 2,
       "version_minor": 0
      },
      "text/plain": [
       "Map(bottom=1931168.0, center=[14.126920602170292, -16.565837860107425], controls=(ZoomControl(options=['positi…"
      ]
     },
     "execution_count": 11,
     "metadata": {},
     "output_type": "execute_result"
    }
   ],
   "source": [
    "\n",
    "m"
   ]
  },
  {
   "cell_type": "code",
   "execution_count": null,
   "metadata": {},
   "outputs": [],
   "source": []
  }
 ],
 "metadata": {
  "kernelspec": {
   "display_name": "geo",
   "language": "python",
   "name": "python3"
  },
  "language_info": {
   "codemirror_mode": {
    "name": "ipython",
    "version": 3
   },
   "file_extension": ".py",
   "mimetype": "text/x-python",
   "name": "python",
   "nbconvert_exporter": "python",
   "pygments_lexer": "ipython3",
   "version": "3.12.3"
  }
 },
 "nbformat": 4,
 "nbformat_minor": 2
}
